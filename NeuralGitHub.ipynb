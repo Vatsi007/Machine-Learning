{
  "nbformat": 4,
  "nbformat_minor": 0,
  "metadata": {
    "colab": {
      "provenance": [],
      "authorship_tag": "ABX9TyNMG2PlBQDBdomhYryiKvKs",
      "include_colab_link": true
    },
    "kernelspec": {
      "name": "python3",
      "display_name": "Python 3"
    },
    "language_info": {
      "name": "python"
    }
  },
  "cells": [
    {
      "cell_type": "markdown",
      "metadata": {
        "id": "view-in-github",
        "colab_type": "text"
      },
      "source": [
        "<a href=\"https://colab.research.google.com/github/Vatsi007/Machine-Learning/blob/main/NeuralGitHub.ipynb\" target=\"_parent\"><img src=\"https://colab.research.google.com/assets/colab-badge.svg\" alt=\"Open In Colab\"/></a>"
      ]
    },
    {
      "cell_type": "code",
      "execution_count": 1,
      "metadata": {
        "id": "Hj2x6kDZLhCJ"
      },
      "outputs": [],
      "source": [
        "import numpy as np\n",
        "import tensorflow as tf\n",
        "from tensorflow.keras.models import Sequential\n",
        "from tensorflow.keras.layers import Dense"
      ]
    },
    {
      "cell_type": "code",
      "source": [
        "# 1. Create a small dataset\n",
        "# Format: [stress, workload, salary, benefits]\n",
        "X = np.array([\n",
        "    [0.9, 0.6, 0.2, 0.8],   # high stress, low salary → likely quit\n",
        "    [0.1, 0.2, 0.9, 0.9],   # low stress, high salary → stay\n",
        "    [0.8, 0.7, 0.3, 0.4],   # likely quit\n",
        "    [0.2, 0.3, 0.8, 0.7],   # likely stay\n",
        "    [0.6, 0.5, 0.4, 0.6],   # borderline\n",
        "    [0.9, 0.8, 0.1, 0.3]    # likely quit\n",
        "])\n",
        "\n"
      ],
      "metadata": {
        "id": "_81_Ymq-MA6-"
      },
      "execution_count": 2,
      "outputs": []
    },
    {
      "cell_type": "code",
      "source": [
        "# 2. Labels (target values): 1 = quit, 0 = stay\n",
        "y = np.array([1, 0, 1, 0, 0, 1])"
      ],
      "metadata": {
        "id": "H2ikoXhbMAzX"
      },
      "execution_count": 3,
      "outputs": []
    },
    {
      "cell_type": "code",
      "source": [
        "# 3. Define the neural network model\n",
        "model = Sequential([\n",
        "    Dense(4, input_shape=(4,), activation='relu'),  # input layer (4 inputs), ReLU activation\n",
        "    Dense(1, activation='sigmoid')                  # output layer (1 neuron), sigmoid for binary classification\n",
        "])\n",
        "\n"
      ],
      "metadata": {
        "id": "W3M7V-3CMAr_",
        "colab": {
          "base_uri": "https://localhost:8080/"
        },
        "outputId": "d8a2f180-9c27-4624-840b-3cb5730aa292"
      },
      "execution_count": 4,
      "outputs": [
        {
          "output_type": "stream",
          "name": "stderr",
          "text": [
            "/usr/local/lib/python3.11/dist-packages/keras/src/layers/core/dense.py:87: UserWarning: Do not pass an `input_shape`/`input_dim` argument to a layer. When using Sequential models, prefer using an `Input(shape)` object as the first layer in the model instead.\n",
            "  super().__init__(activity_regularizer=activity_regularizer, **kwargs)\n"
          ]
        }
      ]
    },
    {
      "cell_type": "code",
      "source": [
        "# 4. Compile the model\n",
        "model.compile(optimizer='adam', loss='binary_crossentropy', metrics=['accuracy'])\n"
      ],
      "metadata": {
        "id": "se7_JFf_6yXP"
      },
      "execution_count": 5,
      "outputs": []
    },
    {
      "cell_type": "code",
      "source": [
        "# 5. Train the model\n",
        "model.fit(X, y, epochs=100, verbose=0)  # silent training\n",
        "\n"
      ],
      "metadata": {
        "id": "KJn-QevyMAY6",
        "colab": {
          "base_uri": "https://localhost:8080/"
        },
        "outputId": "891e788a-3322-4abe-e1f2-d99844bbeaa7"
      },
      "execution_count": 6,
      "outputs": [
        {
          "output_type": "execute_result",
          "data": {
            "text/plain": [
              "<keras.src.callbacks.history.History at 0x7d1d746330d0>"
            ]
          },
          "metadata": {},
          "execution_count": 6
        }
      ]
    },
    {
      "cell_type": "code",
      "source": [
        "# 6. Test the model with a new input\n",
        "test_employee = np.array([[0.8, 0.7, 0.2, 0.3]])  # high stress, low salary\n"
      ],
      "metadata": {
        "id": "V0XZGY2f626C"
      },
      "execution_count": 7,
      "outputs": []
    },
    {
      "cell_type": "code",
      "source": [
        "# 7. Predict\n",
        "prediction = model.predict(test_employee)\n",
        "print(\"Prediction (probability of quitting):\", prediction[0][0])\n"
      ],
      "metadata": {
        "colab": {
          "base_uri": "https://localhost:8080/"
        },
        "id": "y1Xpc1pq6-cC",
        "outputId": "9d1accd8-2fcd-4705-e70d-e2af98b03b77"
      },
      "execution_count": 8,
      "outputs": [
        {
          "output_type": "stream",
          "name": "stdout",
          "text": [
            "\u001b[1m1/1\u001b[0m \u001b[32m━━━━━━━━━━━━━━━━━━━━\u001b[0m\u001b[37m\u001b[0m \u001b[1m0s\u001b[0m 67ms/step\n",
            "Prediction (probability of quitting): 0.75358963\n"
          ]
        }
      ]
    },
    {
      "cell_type": "code",
      "source": [
        "\n",
        "# 8. Apply threshold to interpret the result\n",
        "if prediction[0][0] > 0.5:\n",
        "    print(\"Likely to QUIT (1)\")\n",
        "else:\n",
        "    print(\"Likely to STAY (0)\")"
      ],
      "metadata": {
        "colab": {
          "base_uri": "https://localhost:8080/"
        },
        "id": "hnaCdet56-Q3",
        "outputId": "d39ab45b-9856-431c-e1f7-933139cb8753"
      },
      "execution_count": 9,
      "outputs": [
        {
          "output_type": "stream",
          "name": "stdout",
          "text": [
            "Likely to QUIT (1)\n"
          ]
        }
      ]
    }
  ]
}